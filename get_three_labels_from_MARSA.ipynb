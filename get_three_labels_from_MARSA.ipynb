{
  "nbformat": 4,
  "nbformat_minor": 0,
  "metadata": {
    "colab": {
      "provenance": [],
      "machine_shape": "hm",
      "gpuType": "V28",
      "authorship_tag": "ABX9TyP3maNv6do6ojpA8s1Fbk8f",
      "include_colab_link": true
    },
    "kernelspec": {
      "name": "python3",
      "display_name": "Python 3"
    },
    "language_info": {
      "name": "python"
    },
    "accelerator": "TPU"
  },
  "cells": [
    {
      "cell_type": "markdown",
      "metadata": {
        "id": "view-in-github",
        "colab_type": "text"
      },
      "source": [
        "<a href=\"https://colab.research.google.com/github/Lama-Aldhafeeri/CAMelBERT/blob/main/get_three_labels_from_MARSA.ipynb\" target=\"_parent\"><img src=\"https://colab.research.google.com/assets/colab-badge.svg\" alt=\"Open In Colab\"/></a>"
      ]
    },
    {
      "cell_type": "code",
      "source": [
        "import os\n",
        "import pandas as pd\n",
        "\n",
        "from google.colab import drive\n",
        "drive.mount('/content/drive')"
      ],
      "metadata": {
        "colab": {
          "base_uri": "https://localhost:8080/"
        },
        "id": "dCpSY2e-m_JA",
        "outputId": "c0d4e116-6588-4ed8-f86b-90460975f745"
      },
      "execution_count": 1,
      "outputs": [
        {
          "output_type": "stream",
          "name": "stdout",
          "text": [
            "Mounted at /content/drive\n"
          ]
        }
      ]
    },
    {
      "cell_type": "code",
      "execution_count": 2,
      "metadata": {
        "colab": {
          "base_uri": "https://localhost:8080/"
        },
        "id": "AMrMHlb6l5pv",
        "outputId": "f25de9ff-899b-4513-ef24-22b98d6964c8"
      },
      "outputs": [
        {
          "output_type": "stream",
          "name": "stdout",
          "text": [
            "Total rows after merging: 56662\n",
            "Merging complete, all rows retained. File saved as 'three_labeld_data_with_headers_.csv'.\n"
          ]
        }
      ],
      "source": [
        "import os\n",
        "import pandas as pd\n",
        "\n",
        "# Define the path to the main corpus directory\n",
        "directory_path = r'/content/drive/MyDrive/Colab Notebooks/MARSA-Dataset/Corpus'\n",
        "\n",
        "# Define the target classes and the corresponding file names\n",
        "class_files = {'Pos': 'Pos.csv', 'Neg': 'Neg.csv', 'Neut': 'Neut.csv'}\n",
        "\n",
        "# Initialize an empty DataFrame to store all the data\n",
        "merged_data = pd.DataFrame()\n",
        "\n",
        "# Loop over the domains (folders) in the corpus directory\n",
        "for domain_folder in os.listdir(directory_path):\n",
        "    domain_path = os.path.join(directory_path, domain_folder)\n",
        "\n",
        "    # Check if it's a directory\n",
        "    if os.path.isdir(domain_path):\n",
        "        # Loop through the relevant sentiment class files\n",
        "        for sentiment_class, file_name in class_files.items():\n",
        "            file_path = os.path.join(domain_path, file_name)\n",
        "\n",
        "            # Check if the file exists (some domains might not have all class files)\n",
        "            if os.path.exists(file_path):\n",
        "                # Load the data from the CSV, keeping all rows and columns\n",
        "                data = pd.read_csv(file_path)\n",
        "\n",
        "                # Select only the last two columns (assuming the relevant ones are the last two)\n",
        "                if data.shape[1] >= 4:  # Ensure the file has at least 4 columns\n",
        "                    selected_data = data.iloc[:, -2:].copy()  # Get the last two columns\n",
        "                    selected_data.columns = ['Post', 'Polarity']  # Rename columns\n",
        "                    selected_data['Polarity'] = sentiment_class  # Replace the Polarity column with sentiment class\n",
        "\n",
        "                    # Append the data without dropping any duplicates\n",
        "                    merged_data = pd.concat([merged_data, selected_data], ignore_index=True)\n",
        "                else:\n",
        "                    print(f\"Skipping file {file_name} due to insufficient columns.\")\n",
        "\n",
        "# Optional: Check if the row count matches the expectation\n",
        "print(f\"Total rows after merging: {merged_data.shape[0]}\")\n",
        "\n",
        "# Save the merged data to a new file, retaining all rows including duplicates\n",
        "file_path = '/content/drive/MyDrive/Colab Notebooks/CAMelBERT/three_labeld_data_with_headers.csv'\n",
        "merged_data.to_csv(file_path, index=False, header=True)\n",
        "\n",
        "print(\"Merging complete, all rows retained. File saved as 'three_labeld_data_with_headers_.csv'.\")\n"
      ]
    },
    {
      "cell_type": "code",
      "source": [],
      "metadata": {
        "id": "KVZuleCKmVHy"
      },
      "execution_count": null,
      "outputs": []
    }
  ]
}